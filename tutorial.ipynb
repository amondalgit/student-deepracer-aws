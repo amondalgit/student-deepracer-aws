{
 "cells": [
  {
   "cell_type": "markdown",
   "metadata": {},
   "source": [
    "# Module 1: Introduction"
   ]
  },
  {
   "cell_type": "markdown",
   "metadata": {},
   "source": [
    "## How is machine learning different?\n",
    "> In traditional problem-solving with software, a person analyzes a problem and engineers a solution in code to solve that problem. For many real-world problems, this process can be laborious (or even impossible) because a correct solution would need to take a vast number of edge cases into consideration.                                       \n",
    "\n",
    "> In machine learning, the problem solver abstracts away part of their solution as a flexible component called a model, and uses a special program called a model training algorithm to adjust that model to real-world data. The result is a trained model which can be used to predict outcomes that are not part of the dataset used to train it.\\\n",
    "\n",
    "## Terminology\n",
    "* **Machine learning**, or ML, is a modern software development technique that enables computers to solve problems by using examples of real-world data.\n",
    "\n",
    "* In **supervised learning**, every training sample from the dataset has a corresponding label or output value associated with it. As a result, the algorithm learns to predict labels or output values.\n",
    "\n",
    "* In **reinforcement learning**, the algorithm figures out which actions to take in a situation to maximize a reward (in the form of a number) on the way to reaching a specific goal.\n",
    "\n",
    "* In **unsupervised learning**, there are no labels for the training data. A machine learning algorithm tries to learn the underlying patterns or distributions that govern the data.\n",
    "\n",
    "## Components of machine learning\n",
    "* A machine learning model\n",
    "* A model training algorithm\n",
    "* A model inference algorithm\n",
    "\n",
    "## Elaborating, components of ML\n",
    "* A **model** is an extremely generic program, made specific by the data used to train it.\n",
    "* **Model training algorithms** work through an interactive process where the current model iteration is analyzed to determine what changes can be made to get closer to the goal. Those changes are made and the iteration continues until the model is evaluated to meet the goals.\n",
    "* **Model inference** is when the trained model is used to generate predictions.\n",
    "\n",
    "## Few other terminologies\n",
    "* **Clustering** is an unsupervised learning task that helps to determine if there are any naturally occurring groupings in the data.\n",
    "* A **categorical label** has a discrete set of possible values, such as \"is a cat\" and \"is not a cat.\"\n",
    "* A **continuous (regression) label** does not have a discrete set of possible values, which means there are potentially an unlimited number of possibilities.\n",
    "* **Discrete** is a term taken from statistics referring to an outcome that takes only a finite number of values (such as days of the week).\n",
    "* A **label** refers to data that already contains the solution.\n",
    " * Using **unlabeled data** means you don't need to provide the model with any kind of label or solution while the model is being trained."
   ]
  },
  {
   "cell_type": "markdown",
   "metadata": {},
   "source": [
    "# Module 2: Five steps of Machine Learning"
   ]
  },
  {
   "cell_type": "markdown",
   "metadata": {},
   "source": [
    "> define the problem -> build the dataset -> train the model-> evaluate the model -> use the model\n",
    "\n",
    "## 1. Define the Problem\n",
    ">### ML tasks (most common)\n",
    ">1. Supervised Learning (uses label)\n",
    ">    1. Classification (if solution labels are categotical variable)\n",
    ">    2. Regression (if solution labels are continuous variable)\n",
    ">2. Unsupervised Learning (uses unlabelled data)\n",
    ">    1. Clustering (find any naturally occuring group in the data)\n",
    "\n",
    "## 2. Build the Dataset\n",
    ">**Data Collection**: collect data related to your defined problem\n",
    ">   * SQL queries\n",
    ">   * custom webscraper applications\n",
    ">\n",
    ">**Data Inspection**: \n",
    ">   * finding outliers\n",
    ">   * replace/omit mission/incomplete data\n",
    ">   * transform collected data to desired format to be used by model (like categorical to numerial)\n",
    ">\n",
    ">**Summary Stat**:\n",
    ">   * Trend in the data (pdf, cdf)\n",
    ">   * scale of the data (measure of variability)\n",
    ">   * shape of the data (central tendency, distribution)\n",
    ">\n",
    ">**Data Visualization**:\n",
    ">   communicate the findings to project stakeholders\n",
    "\n",
    "## 3. Model Training\n",
    ">**Splitting Dataset**:\n",
    ">   * there will be two factions.\n",
    ">       1. Training dataset (holds majority of datapoints ~80%)\n",
    ">       2. Testing dataset (model has not seen these before while training)\n",
    ">### Key Terms\n",
    ">   * **Model parameters**: settings that the training algorithms can update to change hoe thw model behaves. (general used terms are Weights & Biases)\n",
    ">   * **Loss functions**: defining model's distance from the actual results\n",
    ">   * **Hyperparameters**: settings on the model that are not changed during training, but can affect how quickly or how reliably the model trains (e.g. the number of clusters the model should identify)\n",
    "#### Key terms from this lesson:\n",
    "* **Impute** is a common term referring to different statistical tools that can be used to calculate missing values from your dataset.\n",
    "* **Outliers** are data points that are significantly different from other date in the same sample."
   ]
  },
  {
   "cell_type": "markdown",
   "metadata": {},
   "source": []
  }
 ],
 "metadata": {
  "language_info": {
   "name": "python"
  },
  "orig_nbformat": 4
 },
 "nbformat": 4,
 "nbformat_minor": 2
}
